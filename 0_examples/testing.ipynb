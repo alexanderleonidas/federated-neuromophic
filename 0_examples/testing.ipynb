{
 "cells": [
  {
   "cell_type": "code",
   "id": "initial_id",
   "metadata": {
    "collapsed": true,
    "ExecuteTime": {
     "end_time": "2024-11-14T15:39:13.124992Z",
     "start_time": "2024-11-14T15:39:13.121297Z"
    }
   },
   "source": [
    "import numpy as np\n",
    "import torchvision\n",
    "from matplotlib import pyplot as plt\n",
    "\n",
    "from data.mnist_loader import load_mnist_batches, extract_mnist, get_augmentation_transform"
   ],
   "execution_count": 39,
   "outputs": []
  },
  {
   "metadata": {},
   "cell_type": "markdown",
   "source": "# MNIST",
   "id": "fd1bfb2a2b444621"
  },
  {
   "metadata": {
    "ExecuteTime": {
     "end_time": "2024-11-14T13:59:33.597083Z",
     "start_time": "2024-11-14T13:59:33.537067Z"
    }
   },
   "cell_type": "code",
   "source": "dataset = extract_mnist(get_augmentation_transform(img_size=(512, 512)))",
   "id": "be1afbe21af8caec",
   "execution_count": 30,
   "outputs": []
  },
  {
   "metadata": {
    "ExecuteTime": {
     "end_time": "2024-11-14T13:59:36.035957Z",
     "start_time": "2024-11-14T13:59:36.030480Z"
    }
   },
   "cell_type": "code",
   "source": [
    "print(dataset.num_train_samples)\n",
    "print(dataset.num_test_samples)"
   ],
   "id": "f9766292032f8d35",
   "execution_count": 31,
   "outputs": []
  },
  {
   "metadata": {
    "ExecuteTime": {
     "end_time": "2024-11-14T13:59:38.232095Z",
     "start_time": "2024-11-14T13:59:38.221192Z"
    }
   },
   "cell_type": "code",
   "source": "dataset.training_set[0]",
   "id": "31c7013cb4319279",
   "execution_count": 32,
   "outputs": []
  },
  {
   "metadata": {
    "ExecuteTime": {
     "end_time": "2024-11-14T13:59:40.466676Z",
     "start_time": "2024-11-14T13:59:40.317643Z"
    }
   },
   "cell_type": "code",
   "source": [
    "instance = dataset.training_set[0]\n",
    "plt.imshow(instance[0][0])"
   ],
   "id": "6fe9d689e9ee1e71",
   "execution_count": 33,
   "outputs": []
  },
  {
   "metadata": {
    "ExecuteTime": {
     "end_time": "2024-11-14T15:37:59.921930Z",
     "start_time": "2024-11-14T15:37:59.918731Z"
    }
   },
   "cell_type": "code",
   "source": "",
   "id": "55d7aa74317e3da3",
   "execution_count": null,
   "outputs": []
  },
  {
   "metadata": {},
   "cell_type": "markdown",
   "source": "",
   "id": "2b24ebdfc7a5f1b"
  },
  {
   "metadata": {
    "ExecuteTime": {
     "end_time": "2024-11-14T15:38:18.000559Z",
     "start_time": "2024-11-14T15:38:17.961425Z"
    }
   },
   "cell_type": "code",
   "source": "batches_mnist_dataset = load_mnist_batches()",
   "id": "7a0e270a67b20f08",
   "execution_count": 36,
   "outputs": []
  },
  {
   "metadata": {
    "ExecuteTime": {
     "end_time": "2024-11-14T15:38:19.312177Z",
     "start_time": "2024-11-14T15:38:19.307846Z"
    }
   },
   "cell_type": "code",
   "source": [
    "print(batches_mnist_dataset.batch_size)\n",
    "print()\n",
    "print(batches_mnist_dataset.num_train_samples)\n",
    "print(batches_mnist_dataset.num_train_batches)\n",
    "print()\n",
    "print(batches_mnist_dataset.num_val_samples)\n",
    "print(batches_mnist_dataset.num_val_batches)\n",
    "print()\n",
    "print(batches_mnist_dataset.num_test_samples)\n",
    "print(batches_mnist_dataset.num_test_batches)"
   ],
   "id": "d96183d0ded721cf",
   "execution_count": 37,
   "outputs": []
  },
  {
   "metadata": {
    "ExecuteTime": {
     "end_time": "2024-11-14T16:01:22.629056Z",
     "start_time": "2024-11-14T16:01:22.136701Z"
    }
   },
   "cell_type": "code",
   "source": [
    "for images, labels in batches_mnist_dataset.train_loader:\n",
    "    print(f'Images shape: {images.shape}, Labels shape: {labels.shape}')\n",
    "    print(f'Images dtype: {images.dtype}, Labels dtype: {labels.dtype}')\n",
    "    # Get the first 10 images and labels from your batch\n",
    "    images_batch, labels_batch = images[:10], labels[:10]\n",
    "    \n",
    "    # Move images and labels to CPU and convert to NumPy arrays\n",
    "    images_np = images_batch.cpu().numpy()\n",
    "    labels_np = labels_batch.cpu().numpy()\n",
    "    \n",
    "    # Denormalize images if necessary\n",
    "    # If you have normalized your images during preprocessing, you need to reverse that here.\n",
    "    # Replace 'mean' and 'std' with the values you used during normalization.\n",
    "    \n",
    "    # Example normalization values (common for ImageNet models)\n",
    "    # If you didn't normalize your images, you can skip the denormalization step.\n",
    "    \n",
    "    mean = np.array([0.485, 0.456, 0.406])  # Example values; replace with yours if different\n",
    "    std = np.array([0.229, 0.224, 0.225])   # Example values; replace with yours if different\n",
    "    \n",
    "    # Denormalize the images\n",
    "    images_np = images_np * std[None, :, None, None] + mean[None, :, None, None]\n",
    "    images_np = np.clip(images_np, 0, 1)  # Ensure pixel values are within [0, 1]\n",
    "    \n",
    "    # Set up the plot\n",
    "    fig, axes = plt.subplots(2, 5, figsize=(15, 6))\n",
    "    axes = axes.flatten()\n",
    "    \n",
    "    for idx, ax in enumerate(axes):\n",
    "        img = images_np[idx]\n",
    "        label = labels_np[idx]\n",
    "        \n",
    "        # Transpose the image to (H, W, C) format for plotting\n",
    "        img = np.transpose(img, (1, 2, 0))\n",
    "        \n",
    "        ax.imshow(img)\n",
    "        ax.set_title(f'Label: {label}')\n",
    "        ax.axis('off')\n",
    "    \n",
    "    plt.tight_layout()\n",
    "    plt.show()\n",
    "    break  # Only need to check one batch"
   ],
   "id": "aa89c3c061c04f84",
   "execution_count": 60,
   "outputs": []
  },
  {
   "metadata": {},
   "cell_type": "code",
   "execution_count": null,
   "source": "",
   "id": "9c9b320ef2f55ccd",
   "outputs": []
  }
 ],
 "metadata": {
  "kernelspec": {
   "display_name": "Python 3",
   "language": "python",
   "name": "python3"
  },
  "language_info": {
   "codemirror_mode": {
    "name": "ipython",
    "version": 2
   },
   "file_extension": ".py",
   "mimetype": "text/x-python",
   "name": "python",
   "nbconvert_exporter": "python",
   "pygments_lexer": "ipython2",
   "version": "2.7.6"
  }
 },
 "nbformat": 4,
 "nbformat_minor": 5
}
