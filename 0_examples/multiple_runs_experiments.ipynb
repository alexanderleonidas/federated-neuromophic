{
 "cells": [
  {
   "cell_type": "code",
   "id": "2923a6aeba067152",
   "metadata": {
    "ExecuteTime": {
     "end_time": "2024-11-19T15:56:53.366910Z",
     "start_time": "2024-11-19T15:56:46.752258Z"
    }
   },
   "source": [
    "from data.mnist_loader import load_mnist_batches\n",
    "from evaluation.evaluation import evaluate_outputs\n",
    "from models.single_trainable import Trainable\n",
    "from training.single_model_trainer import Trainer\n",
    "from utils.globals import MAX_EPOCHS\n",
    "from utils.state import State"
   ],
   "outputs": [],
   "execution_count": 1
  },
  {
   "metadata": {
    "ExecuteTime": {
     "end_time": "2024-11-19T15:56:53.378146Z",
     "start_time": "2024-11-19T15:56:53.372966Z"
    }
   },
   "cell_type": "code",
   "source": "NUM_INSTANCES = 5",
   "id": "e8a27f134f5901f9",
   "outputs": [],
   "execution_count": 2
  },
  {
   "metadata": {
    "ExecuteTime": {
     "end_time": "2024-11-19T15:56:53.512358Z",
     "start_time": "2024-11-19T15:56:53.506345Z"
    }
   },
   "cell_type": "code",
   "source": [
    "def run_normal_single():\n",
    "    state = State(federated=False, neuromorphic=False, method='backprop', save_model=True)\n",
    "\n",
    "    batches_mnist_dataset = load_mnist_batches()\n",
    "\n",
    "    trainable = Trainable(state=state)\n",
    "    trainer = Trainer(trainable=trainable, dataset=batches_mnist_dataset, state=state)\n",
    "\n",
    "\n",
    "    trainer.train_model()\n",
    "\n",
    "    metrics = evaluate_outputs(trainable.model, batches_mnist_dataset.test_loader)\n",
    "\n",
    "    final_metrics = metrics.get_results()\n",
    "    return final_metrics, trainer.training_scores"
   ],
   "id": "61833746c451c793",
   "outputs": [],
   "execution_count": 3
  },
  {
   "metadata": {
    "ExecuteTime": {
     "end_time": "2024-11-19T15:56:53.530159Z",
     "start_time": "2024-11-19T15:56:53.526038Z"
    }
   },
   "cell_type": "code",
   "source": [
    "all_training_scores = []\n",
    "all_final_metrics = []"
   ],
   "id": "37e64d5fb09552b4",
   "outputs": [],
   "execution_count": 4
  },
  {
   "metadata": {
    "collapsed": true,
    "jupyter": {
     "is_executing": true
    },
    "ExecuteTime": {
     "start_time": "2024-11-19T15:56:53.543090Z"
    }
   },
   "cell_type": "code",
   "source": [
    "for i in range(NUM_INSTANCES):\n",
    "    final_metrics, training_scores = run_normal_single()\n",
    "    all_final_metrics.append(final_metrics)\n",
    "    all_training_scores.append(training_scores)"
   ],
   "id": "initial_id",
   "outputs": [
    {
     "name": "stderr",
     "output_type": "stream",
     "text": [
      "Testing: 100%|██████████| 79/79 [00:03<00:00, 23.89it/s, Accuracy=99.09%]\n",
      "Testing: 100%|██████████| 79/79 [00:03<00:00, 23.90it/s, Accuracy=98.86%]\n",
      "Testing: 100%|██████████| 79/79 [00:03<00:00, 23.15it/s, Accuracy=98.76%]\n"
     ]
    }
   ],
   "execution_count": null
  },
  {
   "metadata": {
    "ExecuteTime": {
     "end_time": "2024-11-19T15:54:29.607030100Z",
     "start_time": "2024-11-19T15:23:04.244988Z"
    }
   },
   "cell_type": "code",
   "source": "all_training_scores",
   "id": "eff8efb41416e0e4",
   "outputs": [
    {
     "data": {
      "text/plain": [
       "[{'Training Loss': [1.3796706365493305,\n",
       "   0.1296316057161281,\n",
       "   0.08877082426297037,\n",
       "   0.07343834551018581],\n",
       "  'Training Accuracy': [72.56315789473685,\n",
       "   96.05087719298245,\n",
       "   97.26140350877193,\n",
       "   97.78947368421052],\n",
       "  'Validation Loss': [0.17390754016240437,\n",
       "   0.08504797240098318,\n",
       "   0.06534145454565685,\n",
       "   0.06622807167967161],\n",
       "  'Validation Accuracy': [94.8, 97.53333333333333, 98.13333333333334, 97.8]},\n",
       " {'Training Loss': [1.2089910922217788,\n",
       "   0.12113825597679406,\n",
       "   0.08503129948126642,\n",
       "   0.06864806332086262],\n",
       "  'Training Accuracy': [79.15964912280701,\n",
       "   96.4140350877193,\n",
       "   97.3719298245614,\n",
       "   97.91929824561403],\n",
       "  'Validation Loss': [0.15055502518018088,\n",
       "   0.08988835259278616,\n",
       "   0.06260179362694422,\n",
       "   0.062049742539723715],\n",
       "  'Validation Accuracy': [95.5,\n",
       "   97.46666666666667,\n",
       "   98.03333333333333,\n",
       "   98.13333333333334]},\n",
       " {'Training Loss': [1.0343937897326654,\n",
       "   0.11984510836528059,\n",
       "   0.0846940140515043,\n",
       "   0.06932713890284822],\n",
       "  'Training Accuracy': [79.21228070175438,\n",
       "   96.31052631578947,\n",
       "   97.39298245614034,\n",
       "   97.82280701754387],\n",
       "  'Validation Loss': [0.14360063223044078,\n",
       "   0.10195458567142486,\n",
       "   0.07382655338446299,\n",
       "   0.062477684219678246],\n",
       "  'Validation Accuracy': [95.76666666666667,\n",
       "   97.06666666666666,\n",
       "   97.63333333333334,\n",
       "   98.13333333333334]},\n",
       " {'Training Loss': [1.4478103313592443,\n",
       "   0.12880424261302278,\n",
       "   0.08407199190844569,\n",
       "   0.07762745813946975],\n",
       "  'Training Accuracy': [75.54385964912281,\n",
       "   96.11228070175439,\n",
       "   97.44912280701755,\n",
       "   97.56491228070175],\n",
       "  'Validation Loss': [0.16172015611330667,\n",
       "   0.08763124573230743,\n",
       "   0.06947148567438126,\n",
       "   0.06368899687131246],\n",
       "  'Validation Accuracy': [95.2, 97.3, 97.83333333333333, 97.93333333333334]},\n",
       " {'Training Loss': [1.2874403541339072,\n",
       "   0.11339457822787134,\n",
       "   0.08591556289112359,\n",
       "   0.07317813988003814],\n",
       "  'Training Accuracy': [78.26842105263158,\n",
       "   96.50175438596492,\n",
       "   97.31052631578947,\n",
       "   97.80701754385964],\n",
       "  'Validation Loss': [0.12929640324910482,\n",
       "   0.08015485618511836,\n",
       "   0.0656811168094476,\n",
       "   0.07484954543908437],\n",
       "  'Validation Accuracy': [96.2, 97.73333333333333, 98.2, 97.7]}]"
      ]
     },
     "execution_count": 7,
     "metadata": {},
     "output_type": "execute_result"
    }
   ],
   "execution_count": 7
  },
  {
   "metadata": {},
   "cell_type": "code",
   "outputs": [],
   "execution_count": null,
   "source": [
    "from matplotlib import pyplot as plt\n",
    "import numpy as np"
   ],
   "id": "62955a0e0730b576"
  },
  {
   "metadata": {},
   "cell_type": "code",
   "outputs": [],
   "execution_count": null,
   "source": "# Compute means and standard deviations",
   "id": "cfcb6c64bd037b60"
  },
  {
   "metadata": {},
   "cell_type": "code",
   "outputs": [],
   "execution_count": null,
   "source": "",
   "id": "4c34d3fca2623359"
  },
  {
   "metadata": {},
   "cell_type": "code",
   "source": [
    "# Enhanced plotting: Showing individual lines for each run and clearer visualization of mean with std\n",
    "dfc = plt.rcParams['axes.prop_cycle'].by_key()['color']\n",
    "c1 = dfc[0]\n",
    "c2 = dfc[1]\n"
   ],
   "id": "691504b67078618e",
   "outputs": [],
   "execution_count": null
  },
  {
   "metadata": {
    "ExecuteTime": {
     "end_time": "2024-11-19T15:54:29.609033400Z",
     "start_time": "2024-11-19T15:50:30.813373Z"
    }
   },
   "cell_type": "code",
   "source": [
    "cols = {'train_mean': dfc[0], 'train_runs': dfc[0], 'val_mean': dfc[1], 'val_runs':dfc[1]}\n",
    "\n",
    "\n",
    "def plot_loss_with_mean_std(data, colors=cols):\n",
    "    epochs = MAX_EPOCHS\n",
    "    assert epochs == len(data[0]['Training Loss'])\n",
    "\n",
    "    \"\"\"\n",
    "    Plot Loss with individual runs, mean, and std as shaded area.\n",
    "\n",
    "    Args:\n",
    "        data: List of dictionaries containing Training Loss and Validation Loss data.\n",
    "        colors: Dictionary to specify colors for mean, runs, and std for training and validation.\n",
    "\n",
    "    Returns:\n",
    "        None\n",
    "    \"\"\"\n",
    "    mean_training_loss = np.mean([d['Training Loss'] for d in data], axis=0)\n",
    "    std_training_loss = np.std([d['Training Loss'] for d in data], axis=0)\n",
    "    \n",
    "    mean_validation_loss = np.mean([d['Validation Loss'] for d in data], axis=0)\n",
    "    std_validation_loss = np.std([d['Validation Loss'] for d in data], axis=0)\n",
    "    \n",
    "    # Plot Loss\n",
    "    plt.figure(figsize=(12, 6))\n",
    "    for run in data:\n",
    "        plt.plot(range(1, epochs + 1), run['Training Loss'], '--', color=colors['train_runs'], alpha=0.3)\n",
    "        plt.plot(range(1, epochs + 1), run['Validation Loss'], '--', color=colors['val_runs'], alpha=0.3)\n",
    "\n",
    "    plt.plot(range(1, epochs + 1), mean_training_loss, '-', color=colors['train_mean'], label='Training Loss')\n",
    "    plt.fill_between(range(1, epochs + 1), \n",
    "                     mean_training_loss - std_training_loss, \n",
    "                     mean_training_loss + std_training_loss, \n",
    "                     color=colors['train_mean'], alpha=0.2)\n",
    "\n",
    "    plt.plot(range(1, epochs + 1), mean_validation_loss, '-', color=colors['val_mean'], label='Validation Loss')\n",
    "    plt.fill_between(range(1, epochs + 1), \n",
    "                     mean_validation_loss - std_validation_loss, \n",
    "                     mean_validation_loss + std_validation_loss, \n",
    "                     color=colors['val_mean'], alpha=0.2)\n",
    "\n",
    "    plt.title('Loss Over Epochs (Individual Runs and Mean with Std)')\n",
    "    plt.xlabel('Epochs')\n",
    "    plt.ylabel('Loss')\n",
    "    plt.legend(loc='upper right')\n",
    "    plt.grid(True)\n",
    "    plt.show()"
   ],
   "id": "5418d762fc059433",
   "outputs": [],
   "execution_count": 21
  }
 ],
 "metadata": {
  "kernelspec": {
   "display_name": "Python 3",
   "language": "python",
   "name": "python3"
  },
  "language_info": {
   "codemirror_mode": {
    "name": "ipython",
    "version": 2
   },
   "file_extension": ".py",
   "mimetype": "text/x-python",
   "name": "python",
   "nbconvert_exporter": "python",
   "pygments_lexer": "ipython2",
   "version": "2.7.6"
  }
 },
 "nbformat": 4,
 "nbformat_minor": 5
}
